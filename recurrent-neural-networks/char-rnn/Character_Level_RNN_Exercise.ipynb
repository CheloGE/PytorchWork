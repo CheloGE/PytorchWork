{
  "nbformat": 4,
  "nbformat_minor": 0,
  "metadata": {
    "colab": {
      "name": "Character_Level_RNN_Exercise.ipynb",
      "version": "0.3.2",
      "provenance": []
    },
    "kernelspec": {
      "name": "python3",
      "display_name": "Python 3"
    },
    "accelerator": "GPU"
  },
  "cells": [
    {
      "metadata": {
        "id": "YUWVBRnbsxVx",
        "colab_type": "text"
      },
      "cell_type": "markdown",
      "source": [
        "# Character-Level LSTM in PyTorch\n",
        "\n",
        "In this notebook, I'll construct a character-level LSTM with PyTorch. The network will train character by character on some text, then generate new text character by character. As an example, I will train on Anna Karenina. **This model will be able to generate new text based on the text from the book!**\n",
        "\n",
        "This network is based off of Andrej Karpathy's [post on RNNs](http://karpathy.github.io/2015/05/21/rnn-effectiveness/) and [implementation in Torch](https://github.com/karpathy/char-rnn). Below is the general architecture of the character-wise RNN.\n",
        "\n",
        "<img src=\"https://github.com/CheloGE/PytorchWork/blob/master/recurrent-neural-networks/char-rnn/assets/charseq.jpeg?raw=1\" width=\"500\">"
      ]
    },
    {
      "metadata": {
        "id": "TvdLc2pHsxV1",
        "colab_type": "text"
      },
      "cell_type": "markdown",
      "source": [
        "First let's load in our required resources for data loading and model creation."
      ]
    },
    {
      "metadata": {
        "id": "TfFFKy1rsxV1",
        "colab_type": "code",
        "colab": {}
      },
      "cell_type": "code",
      "source": [
        "import numpy as np\n",
        "import torch\n",
        "from torch import nn\n",
        "import torch.nn.functional as F"
      ],
      "execution_count": 0,
      "outputs": []
    },
    {
      "metadata": {
        "id": "4BZPfBAHsxV7",
        "colab_type": "text"
      },
      "cell_type": "markdown",
      "source": [
        "## Load in Data\n",
        "\n",
        "Then, we'll load the Anna Karenina text file and convert it into integers for our network to use. "
      ]
    },
    {
      "metadata": {
        "id": "yC5D3RBY87qF",
        "colab_type": "text"
      },
      "cell_type": "markdown",
      "source": [
        "### The following line is for uploading a folder required in google colab"
      ]
    },
    {
      "metadata": {
        "id": "zXwdLtNVt4rl",
        "colab_type": "code",
        "outputId": "56309288-7868-4154-8de8-de5f48eb1f90",
        "colab": {
          "base_uri": "https://localhost:8080/",
          "height": 581
        }
      },
      "cell_type": "code",
      "source": [
        "!wget -O datazip https://www.dropbox.com/sh/b0gqv5e4p9jz64h/AACc_wyrSbYwGOhQexIt-jHxa?dl=0\n",
        "!unzip datazip -d data\n",
        "!stat data #this line only helps to check that the file has been created"
      ],
      "execution_count": 16,
      "outputs": [
        {
          "output_type": "stream",
          "text": [
            "--2018-12-20 22:07:31--  https://www.dropbox.com/sh/b0gqv5e4p9jz64h/AACc_wyrSbYwGOhQexIt-jHxa?dl=0\n",
            "Resolving www.dropbox.com (www.dropbox.com)... 162.125.3.1, 2620:100:601b:1::a27d:801\n",
            "Connecting to www.dropbox.com (www.dropbox.com)|162.125.3.1|:443... connected.\n",
            "HTTP request sent, awaiting response... 301 Moved Permanently\n",
            "Location: /sh/raw/b0gqv5e4p9jz64h/AACc_wyrSbYwGOhQexIt-jHxa [following]\n",
            "--2018-12-20 22:07:31--  https://www.dropbox.com/sh/raw/b0gqv5e4p9jz64h/AACc_wyrSbYwGOhQexIt-jHxa\n",
            "Reusing existing connection to www.dropbox.com:443.\n",
            "HTTP request sent, awaiting response... 302 Found\n",
            "Location: https://uc994c5e611741443a7a0b5aa3d7.dl.dropboxusercontent.com/zip_by_token_key?key=AX2QTLTtE4fkLebfgNKSCagO3uRyKMaUNaVS0UvsYx2jJNrH52x0eF3fs2HSutK0TK6Keuok6NnZHy-NMIP8vPOIK9oenKKfFTxrWisBK9RuPOe5VOlJoCPNQtgpLr3bgYzWdrfyB-Cu3WNrUmB_0wrVdS4gID3v_XhFa0MgUK-qHj4tTr_PXcGbGd66uMo1zMnm1J-Nmhs049apvkJuatSQ [following]\n",
            "--2018-12-20 22:07:31--  https://uc994c5e611741443a7a0b5aa3d7.dl.dropboxusercontent.com/zip_by_token_key?key=AX2QTLTtE4fkLebfgNKSCagO3uRyKMaUNaVS0UvsYx2jJNrH52x0eF3fs2HSutK0TK6Keuok6NnZHy-NMIP8vPOIK9oenKKfFTxrWisBK9RuPOe5VOlJoCPNQtgpLr3bgYzWdrfyB-Cu3WNrUmB_0wrVdS4gID3v_XhFa0MgUK-qHj4tTr_PXcGbGd66uMo1zMnm1J-Nmhs049apvkJuatSQ\n",
            "Resolving uc994c5e611741443a7a0b5aa3d7.dl.dropboxusercontent.com (uc994c5e611741443a7a0b5aa3d7.dl.dropboxusercontent.com)... 162.125.8.6, 2620:100:601b:6::a27d:806\n",
            "Connecting to uc994c5e611741443a7a0b5aa3d7.dl.dropboxusercontent.com (uc994c5e611741443a7a0b5aa3d7.dl.dropboxusercontent.com)|162.125.8.6|:443... connected.\n",
            "HTTP request sent, awaiting response... 200 OK\n",
            "Length: unspecified [application/zip]\n",
            "Saving to: ‘datazip’\n",
            "\n",
            "datazip                 [ <=>                ] 863.23K  --.-KB/s    in 0.1s    \n",
            "\n",
            "2018-12-20 22:07:32 (6.31 MB/s) - ‘datazip’ saved [883945]\n",
            "\n",
            "Archive:  datazip\n",
            "warning:  stripped absolute path spec from /\n",
            "mapname:  conversion of  failed\n",
            "replace data/anna.txt? [y]es, [n]o, [A]ll, [N]one, [r]ename: n\n",
            "  File: data\n",
            "  Size: 4096      \tBlocks: 8          IO Block: 4096   directory\n",
            "Device: 2eh/46d\tInode: 10880000    Links: 2\n",
            "Access: (0755/drwxr-xr-x)  Uid: (    0/    root)   Gid: (    0/    root)\n",
            "Access: 2018-12-20 21:57:34.552280369 +0000\n",
            "Modify: 2018-12-20 21:57:34.552280369 +0000\n",
            "Change: 2018-12-20 21:57:34.552280369 +0000\n",
            " Birth: -\n"
          ],
          "name": "stdout"
        }
      ]
    },
    {
      "metadata": {
        "id": "5q3MnUeS9Je5",
        "colab_type": "text"
      },
      "cell_type": "markdown",
      "source": [
        "### Now we can continue opening the data as usual"
      ]
    },
    {
      "metadata": {
        "id": "ug9PDw-ZsxV8",
        "colab_type": "code",
        "colab": {}
      },
      "cell_type": "code",
      "source": [
        "# open text file and read in data as `text`\n",
        "with open('data/anna.txt', 'r') as f:\n",
        "    text = f.read()"
      ],
      "execution_count": 0,
      "outputs": []
    },
    {
      "metadata": {
        "id": "pQ8QFMHmsxWA",
        "colab_type": "text"
      },
      "cell_type": "markdown",
      "source": [
        "Let's check out the first 100 characters, make sure everything is peachy. According to the [American Book Review](http://americanbookreview.org/100bestlines.asp), this is the 6th best first line of a book ever."
      ]
    },
    {
      "metadata": {
        "id": "5dqVARaXsxWB",
        "colab_type": "code",
        "outputId": "fb681e15-681a-4ce4-b742-5007bf0b1b2e",
        "colab": {
          "base_uri": "https://localhost:8080/",
          "height": 34
        }
      },
      "cell_type": "code",
      "source": [
        "text[:100]"
      ],
      "execution_count": 18,
      "outputs": [
        {
          "output_type": "execute_result",
          "data": {
            "text/plain": [
              "'Chapter 1\\n\\n\\nHappy families are all alike; every unhappy family is unhappy in its own\\nway.\\n\\nEverythin'"
            ]
          },
          "metadata": {
            "tags": []
          },
          "execution_count": 18
        }
      ]
    },
    {
      "metadata": {
        "id": "F-BzetkysxWF",
        "colab_type": "text"
      },
      "cell_type": "markdown",
      "source": [
        "### Tokenization\n",
        "\n",
        "In the cells, below, I'm creating a couple **dictionaries** to convert the characters to and from integers. Encoding the characters as integers makes it easier to use as input in the network."
      ]
    },
    {
      "metadata": {
        "id": "OGyQxcJ-sxWH",
        "colab_type": "code",
        "colab": {
          "base_uri": "https://localhost:8080/",
          "height": 71
        },
        "outputId": "df381069-5746-4d37-c6c3-fb61063ed8ca"
      },
      "cell_type": "code",
      "source": [
        "# encode the text and map each character to an integer and vice versa\n",
        "\n",
        "# we create two dictionaries:\n",
        "# 1. int2char, which maps integers to characters\n",
        "# 2. char2int, which maps characters to unique integers\n",
        "chars = tuple(set(text))\n",
        "print(chars)\n",
        "int2char = dict(enumerate(chars))\n",
        "char2int = {ch: ii for ii, ch in int2char.items()}\n",
        "print(char2int)\n",
        "# encode the text\n",
        "encoded = np.array([char2int[ch] for ch in text])"
      ],
      "execution_count": 28,
      "outputs": [
        {
          "output_type": "stream",
          "text": [
            "('2', 'K', 'C', 'F', '5', '*', 't', 'B', 'c', 'L', 'u', '1', 'm', ';', 'x', 'e', '8', '7', 'y', '&', '-', '4', 'O', 'N', '\\n', 'P', 'Y', '_', 'D', 'l', 'w', '3', 'Z', 'p', 'M', '?', 'Q', 'h', 'f', '$', 'R', 'r', '!', 'n', 'b', ')', 'k', '(', 'H', 's', 'g', 'a', '/', 'S', 'i', '\"', 'G', '6', \"'\", 'z', '0', '@', 'q', 'J', 'X', '`', 'j', 'd', 'V', 'I', ' ', 'o', 'T', ',', 'U', '%', '.', 'W', 'A', '9', ':', 'v', 'E')\n",
            "{'2': 0, 'K': 1, 'C': 2, 'F': 3, '5': 4, '*': 5, 't': 6, 'B': 7, 'c': 8, 'L': 9, 'u': 10, '1': 11, 'm': 12, ';': 13, 'x': 14, 'e': 15, '8': 16, '7': 17, 'y': 18, '&': 19, '-': 20, '4': 21, 'O': 22, 'N': 23, '\\n': 24, 'P': 25, 'Y': 26, '_': 27, 'D': 28, 'l': 29, 'w': 30, '3': 31, 'Z': 32, 'p': 33, 'M': 34, '?': 35, 'Q': 36, 'h': 37, 'f': 38, '$': 39, 'R': 40, 'r': 41, '!': 42, 'n': 43, 'b': 44, ')': 45, 'k': 46, '(': 47, 'H': 48, 's': 49, 'g': 50, 'a': 51, '/': 52, 'S': 53, 'i': 54, '\"': 55, 'G': 56, '6': 57, \"'\": 58, 'z': 59, '0': 60, '@': 61, 'q': 62, 'J': 63, 'X': 64, '`': 65, 'j': 66, 'd': 67, 'V': 68, 'I': 69, ' ': 70, 'o': 71, 'T': 72, ',': 73, 'U': 74, '%': 75, '.': 76, 'W': 77, 'A': 78, '9': 79, ':': 80, 'v': 81, 'E': 82}\n"
          ],
          "name": "stdout"
        }
      ]
    },
    {
      "metadata": {
        "id": "jSXEbrG5sxWL",
        "colab_type": "text"
      },
      "cell_type": "markdown",
      "source": [
        "And we can see those same characters from above, encoded as integers."
      ]
    },
    {
      "metadata": {
        "id": "e_3WLtEksxWL",
        "colab_type": "code",
        "outputId": "aa9d248a-dd6c-4b64-ca93-e8b0b195a640",
        "colab": {
          "base_uri": "https://localhost:8080/",
          "height": 119
        }
      },
      "cell_type": "code",
      "source": [
        "encoded[:100]"
      ],
      "execution_count": 20,
      "outputs": [
        {
          "output_type": "execute_result",
          "data": {
            "text/plain": [
              "array([ 2, 37, 51, 33,  6, 15, 41, 70, 11, 24, 24, 24, 48, 51, 33, 33, 18,\n",
              "       70, 38, 51, 12, 54, 29, 54, 15, 49, 70, 51, 41, 15, 70, 51, 29, 29,\n",
              "       70, 51, 29, 54, 46, 15, 13, 70, 15, 81, 15, 41, 18, 70, 10, 43, 37,\n",
              "       51, 33, 33, 18, 70, 38, 51, 12, 54, 29, 18, 70, 54, 49, 70, 10, 43,\n",
              "       37, 51, 33, 33, 18, 70, 54, 43, 70, 54,  6, 49, 70, 71, 30, 43, 24,\n",
              "       30, 51, 18, 76, 24, 24, 82, 81, 15, 41, 18,  6, 37, 54, 43])"
            ]
          },
          "metadata": {
            "tags": []
          },
          "execution_count": 20
        }
      ]
    },
    {
      "metadata": {
        "id": "tOXX3wkU1Oxe",
        "colab_type": "code",
        "outputId": "2a356a4e-c595-4e13-a6aa-38b6e58050d2",
        "colab": {
          "base_uri": "https://localhost:8080/",
          "height": 34
        }
      },
      "cell_type": "code",
      "source": [
        "len(encoded)"
      ],
      "execution_count": 21,
      "outputs": [
        {
          "output_type": "execute_result",
          "data": {
            "text/plain": [
              "1985223"
            ]
          },
          "metadata": {
            "tags": []
          },
          "execution_count": 21
        }
      ]
    },
    {
      "metadata": {
        "id": "SeYobLbLsxWR",
        "colab_type": "text"
      },
      "cell_type": "markdown",
      "source": [
        "## Pre-processing the data\n",
        "\n",
        "As you can see in our char-RNN image above, our LSTM expects an input that is **one-hot encoded** meaning that each character is converted into an integer (via our created dictionary) and *then* converted into a column vector where only it's corresponding integer index will have the value of 1 and the rest of the vector will be filled with 0's. Since we're one-hot encoding the data, let's make a function to do that!\n"
      ]
    },
    {
      "metadata": {
        "id": "v3FtbyVLsxWS",
        "colab_type": "code",
        "colab": {}
      },
      "cell_type": "code",
      "source": [
        "def one_hot_encode(arr, n_labels):\n",
        "    \n",
        "    # Initialize the the encoded array\n",
        "    one_hot = np.zeros((np.multiply(*arr.shape), n_labels), dtype=np.float32)\n",
        "    \n",
        "    # Fill the appropriate elements with ones\n",
        "    one_hot[np.arange(one_hot.shape[0]), arr.flatten()] = 1.\n",
        "    \n",
        "    # Finally reshape it to get back to the original array\n",
        "    one_hot = one_hot.reshape((*arr.shape, n_labels))\n",
        "    \n",
        "    return one_hot"
      ],
      "execution_count": 0,
      "outputs": []
    },
    {
      "metadata": {
        "id": "urt8KnuIsxWZ",
        "colab_type": "code",
        "outputId": "c71837ac-c101-4476-a342-0fba94e119c7",
        "colab": {
          "base_uri": "https://localhost:8080/",
          "height": 68
        }
      },
      "cell_type": "code",
      "source": [
        "# check that the function works as expected\n",
        "test_seq = np.array([[3, 5, 1]])\n",
        "one_hot = one_hot_encode(test_seq, 8)\n",
        "\n",
        "print(one_hot)"
      ],
      "execution_count": 23,
      "outputs": [
        {
          "output_type": "stream",
          "text": [
            "[[[0. 0. 0. 1. 0. 0. 0. 0.]\n",
            "  [0. 0. 0. 0. 0. 1. 0. 0.]\n",
            "  [0. 1. 0. 0. 0. 0. 0. 0.]]]\n"
          ],
          "name": "stdout"
        }
      ]
    },
    {
      "metadata": {
        "id": "juY5UqNCsxWf",
        "colab_type": "text"
      },
      "cell_type": "markdown",
      "source": [
        "## Making training mini-batches\n",
        "\n",
        "\n",
        "To train on this data, we also want to create mini-batches for training. Remember that we want our batches to be multiple sequences of some desired number of sequence steps. Considering a simple example, our batches would look like this:\n",
        "\n",
        "<img src=\"https://github.com/CheloGE/PytorchWork/blob/master/recurrent-neural-networks/char-rnn/assets/sequence_batching@1x.png?raw=1\" width=500px>\n",
        "\n",
        "\n",
        "<br>\n",
        "\n",
        "In this example, we'll take the encoded characters (passed in as the `arr` parameter) and split them into multiple sequences, given by `batch_size`. Each of our sequences will be `seq_length` long.\n",
        "\n",
        "### Creating Batches\n",
        "\n",
        "**1. The first thing we need to do is discard some of the text so we only have completely full mini-batches. **\n",
        "\n",
        "Each batch contains $N \\times M$ characters, where $N$ is the batch size (the number of sequences in a batch) and $M$ is the seq_length or number of time steps in a sequence. Then, to get the total number of batches, $K$, that we can make from the array `arr`, you divide the length of `arr` by the number of characters per batch. Once you know the number of batches, you can get the total number of characters to keep from `arr`, $N * M * K$.\n",
        "\n",
        "**2. After that, we need to split `arr` into $N$ batches. ** \n",
        "\n",
        "You can do this using `arr.reshape(size)` where `size` is a tuple containing the dimensions sizes of the reshaped array. We know we want $N$ sequences in a batch, so let's make that the size of the first dimension. For the second dimension, you can use `-1` as a placeholder in the size, it'll fill up the array with the appropriate data for you. After this, you should have an array that is $N \\times (M * K)$.\n",
        "\n",
        "**3. Now that we have this array, we can iterate through it to get our mini-batches. **\n",
        "\n",
        "The idea is each batch is a $N \\times M$ window on the $N \\times (M * K)$ array. For each subsequent batch, the window moves over by `seq_length`. We also want to create both the input and target arrays. Remember that the targets are just the inputs shifted over by one character. The way I like to do this window is use `range` to take steps of size `n_steps` from $0$ to `arr.shape[1]`, the total number of tokens in each sequence. That way, the integers you get from `range` always point to the start of a batch, and each window is `seq_length` wide.\n",
        "\n",
        "> **TODO:** Write the code for creating batches in the function below. The exercises in this notebook _will not be easy_. I've provided a notebook with solutions alongside this notebook. If you get stuck, checkout the solutions. The most important thing is that you don't copy and paste the code into here, **type out the solution code yourself.**"
      ]
    },
    {
      "metadata": {
        "id": "9XNOpubDsxWg",
        "colab_type": "code",
        "colab": {}
      },
      "cell_type": "code",
      "source": [
        "def get_batches(arr, batch_size, seq_length):\n",
        "    '''Create a generator that returns batches of size\n",
        "       batch_size x seq_length from arr.\n",
        "       \n",
        "       Arguments\n",
        "       ---------\n",
        "       arr: Array you want to make batches from\n",
        "       batch_size: Batch size, the number of sequences per batch\n",
        "       seq_length: Number of encoded chars in a sequence\n",
        "    '''\n",
        "    \n",
        "    ## Get the number of batches we can make\n",
        "    n_batches = len(arr)//(batch_size*seq_length)#double slash means floor division\n",
        "    ## Keep only enough characters to make full batches\n",
        "    arr = arr[:n_batches*batch_size*seq_length]\n",
        "    ## Reshape into batch_size rows\n",
        "    arr = arr.reshape((batch_size,-1))\n",
        "    ## Iterate over the batches using a window of size seq_length\n",
        "    for n in range(0, arr.shape[1], seq_length):\n",
        "        # The features\n",
        "        x = arr[:,n:n+seq_length]\n",
        "         # The targets, shifted by one\n",
        "        y = np.zeros_like(x)\n",
        "        try:\n",
        "            y[:, :-1], y[:, -1] = x[:, 1:], arr[:, n+seq_length]\n",
        "            \n",
        "        except IndexError:\n",
        "            print(\"error\")\n",
        "            y[:, :-1], y[:, -1] = x[:, 1:], arr[:, 0]\n",
        "        yield x, y\n",
        "        "
      ],
      "execution_count": 0,
      "outputs": []
    },
    {
      "metadata": {
        "id": "5lNI-Mq3sxWj",
        "colab_type": "text"
      },
      "cell_type": "markdown",
      "source": [
        "### Test Your Implementation\n",
        "\n",
        "Now I'll make some data sets and we can check out what's going on as we batch data. Here, as an example, I'm going to use a batch size of 8 and 50 sequence steps."
      ]
    },
    {
      "metadata": {
        "id": "KuLHGwrcsxWl",
        "colab_type": "code",
        "colab": {}
      },
      "cell_type": "code",
      "source": [
        "batches = get_batches(encoded, 8, 50)\n",
        "x, y = next(batches)"
      ],
      "execution_count": 0,
      "outputs": []
    },
    {
      "metadata": {
        "id": "COpG3idDsxWo",
        "colab_type": "code",
        "outputId": "9cd5b2e8-7231-4034-ef6a-f32f912c7885",
        "colab": {
          "base_uri": "https://localhost:8080/",
          "height": 340
        }
      },
      "cell_type": "code",
      "source": [
        "# printing out the first 10 items in a sequence of the first batch that is instead of displaying the 50 columns we only shown 10\n",
        "print('x\\n', x[:10, :10])\n",
        "print('\\ny\\n', y[:10, :10])"
      ],
      "execution_count": 26,
      "outputs": [
        {
          "output_type": "stream",
          "text": [
            "x\n",
            " [[ 2 37 51 33  6 15 41 70 11 24]\n",
            " [49 71 43 70  6 37 51  6 70 51]\n",
            " [15 43 67 70 71 41 70 51 70 38]\n",
            " [49 70  6 37 15 70  8 37 54 15]\n",
            " [70 49 51 30 70 37 15 41 70  6]\n",
            " [ 8 10 49 49 54 71 43 70 51 43]\n",
            " [70 78 43 43 51 70 37 51 67 70]\n",
            " [22 44 29 71 43 49 46 18 76 70]]\n",
            "\n",
            "y\n",
            " [[37 51 33  6 15 41 70 11 24 24]\n",
            " [71 43 70  6 37 51  6 70 51  6]\n",
            " [43 67 70 71 41 70 51 70 38 71]\n",
            " [70  6 37 15 70  8 37 54 15 38]\n",
            " [49 51 30 70 37 15 41 70  6 15]\n",
            " [10 49 49 54 71 43 70 51 43 67]\n",
            " [78 43 43 51 70 37 51 67 70 49]\n",
            " [44 29 71 43 49 46 18 76 70 55]]\n"
          ],
          "name": "stdout"
        }
      ]
    },
    {
      "metadata": {
        "id": "HgFf6xwjsxWr",
        "colab_type": "text"
      },
      "cell_type": "markdown",
      "source": [
        "If you implemented `get_batches` correctly, the above output should look something like \n",
        "```\n",
        "x\n",
        " [[25  8 60 11 45 27 28 73  1  2]\n",
        " [17  7 20 73 45  8 60 45 73 60]\n",
        " [27 20 80 73  7 28 73 60 73 65]\n",
        " [17 73 45  8 27 73 66  8 46 27]\n",
        " [73 17 60 12 73  8 27 28 73 45]\n",
        " [66 64 17 17 46  7 20 73 60 20]\n",
        " [73 76 20 20 60 73  8 60 80 73]\n",
        " [47 35 43  7 20 17 24 50 37 73]]\n",
        "\n",
        "y\n",
        " [[ 8 60 11 45 27 28 73  1  2  2]\n",
        " [ 7 20 73 45  8 60 45 73 60 45]\n",
        " [20 80 73  7 28 73 60 73 65  7]\n",
        " [73 45  8 27 73 66  8 46 27 65]\n",
        " [17 60 12 73  8 27 28 73 45 27]\n",
        " [64 17 17 46  7 20 73 60 20 80]\n",
        " [76 20 20 60 73  8 60 80 73 17]\n",
        " [35 43  7 20 17 24 50 37 73 36]]\n",
        " ```\n",
        " although the exact numbers may be different. Check to make sure the data is shifted over one step for `y`."
      ]
    },
    {
      "metadata": {
        "id": "1SBft4kgsxWr",
        "colab_type": "text"
      },
      "cell_type": "markdown",
      "source": [
        "---\n",
        "## Defining the network with PyTorch\n",
        "\n",
        "Below is where you'll define the network.\n",
        "\n",
        "<img src=\"https://github.com/CheloGE/PytorchWork/blob/master/recurrent-neural-networks/char-rnn/assets/charRNN.png?raw=1\" width=500px>\n",
        "\n",
        "Next, you'll use PyTorch to define the architecture of the network. We start by defining the layers and operations we want. Then, define a method for the forward pass. You've also been given a method for predicting characters."
      ]
    },
    {
      "metadata": {
        "id": "nXxOvT_lsxWt",
        "colab_type": "text"
      },
      "cell_type": "markdown",
      "source": [
        "### Model Structure\n",
        "\n",
        "In `__init__` the suggested structure is as follows:\n",
        "* Create and store the necessary dictionaries (this has been done for you)\n",
        "* Define an LSTM layer that takes as params: an input size (the number of characters), a hidden layer size `n_hidden`, a number of layers `n_layers`, a dropout probability `drop_prob`, and a batch_first boolean (True, since we are batching)\n",
        "* Define a dropout layer with `dropout_prob`\n",
        "* Define a fully-connected layer with params: input size `n_hidden` and output size (the number of characters)\n",
        "* Finally, initialize the weights (again, this has been given)\n",
        "\n",
        "Note that some parameters have been named and given in the `__init__` function, and we use them and store them by doing something like `self.drop_prob = drop_prob`."
      ]
    },
    {
      "metadata": {
        "id": "7_AeazgWsxWu",
        "colab_type": "text"
      },
      "cell_type": "markdown",
      "source": [
        "---\n",
        "### LSTM Inputs/Outputs\n",
        "\n",
        "You can create a basic [LSTM layer](https://pytorch.org/docs/stable/nn.html#lstm) as follows\n",
        "\n",
        "```python\n",
        "self.lstm = nn.LSTM(input_size, n_hidden, n_layers, \n",
        "                            dropout=drop_prob, batch_first=True)\n",
        "```\n",
        "\n",
        "where `input_size` is the number of characters this cell expects to see as sequential input, and `n_hidden` is the number of units in the hidden layers in the cell. And we can add dropout by adding a dropout parameter with a specified probability; this will automatically add dropout to the inputs or outputs. Finally, in the `forward` function, we can stack up the LSTM cells into layers using `.view`. With this, you pass in a list of cells and it will send the output of one cell into the next cell.\n",
        "\n",
        "We also need to create an initial hidden state of all zeros. This is done like so\n",
        "\n",
        "```python\n",
        "self.init_hidden()\n",
        "```"
      ]
    },
    {
      "metadata": {
        "id": "uOE_K5wysxWu",
        "colab_type": "code",
        "colab": {
          "base_uri": "https://localhost:8080/",
          "height": 34
        },
        "outputId": "182b92a2-12f4-45de-cf45-d7cf118cf9d7"
      },
      "cell_type": "code",
      "source": [
        "# check if GPU is available\n",
        "train_on_gpu = torch.cuda.is_available()\n",
        "if(train_on_gpu):\n",
        "    print('Training on GPU!')\n",
        "else: \n",
        "    print('No GPU available, training on CPU; consider making n_epochs very small.')"
      ],
      "execution_count": 30,
      "outputs": [
        {
          "output_type": "stream",
          "text": [
            "Training on GPU!\n"
          ],
          "name": "stdout"
        }
      ]
    },
    {
      "metadata": {
        "id": "rSY6ERUesxWy",
        "colab_type": "code",
        "colab": {}
      },
      "cell_type": "code",
      "source": [
        "class CharRNN(nn.Module):\n",
        "    \n",
        "    def __init__(self, tokens, n_hidden=256, n_layers=2,\n",
        "                               drop_prob=0.5, lr=0.001):\n",
        "        super().__init__()\n",
        "        self.drop_prob = drop_prob\n",
        "        self.n_layers = n_layers\n",
        "        self.n_hidden = n_hidden\n",
        "        self.lr = lr\n",
        "        \n",
        "        # creating character dictionaries\n",
        "        self.chars = tokens\n",
        "        self.int2char = dict(enumerate(self.chars))\n",
        "        self.char2int = {ch: ii for ii, ch in self.int2char.items()}\n",
        "        \n",
        "        ## TODO: define the layers of the model\n",
        "        self.lstm = nn.LSTM(len(self.chars),n_hidden,n_layers,dropout=drop_prob,batch_first = True)\n",
        "        self.linear = nn.Linear(n_hidden, len(self.chars))\n",
        "        self.dropout = nn.Dropout(drop_prob)\n",
        "    \n",
        "    def forward(self, x, hidden):\n",
        "        ''' Forward pass through the network. \n",
        "            These inputs are x, and the hidden/cell state `hidden`. '''\n",
        "                \n",
        "        ## TODO: Get the outputs and the new hidden state from the lstm\n",
        "        out, hidden = self.lstm(x,hidden)\n",
        "        out = self.dropout(out)\n",
        "        out = out.contiguous().view(-1,self.n_hidden)\n",
        "        logits = self.linear(out)\n",
        "        # return the final output and the hidden state\n",
        "        return logits, hidden\n",
        "    \n",
        "    \n",
        "    def init_hidden(self, batch_size):\n",
        "        ''' Initializes hidden state '''\n",
        "        # Create two new tensors with sizes n_layers x batch_size x n_hidden,\n",
        "        # initialized to zero, for hidden state and cell state of LSTM\n",
        "        weight = next(self.parameters()).data\n",
        "        \n",
        "        if (train_on_gpu):\n",
        "            hidden = (weight.new(self.n_layers, batch_size, self.n_hidden).zero_().cuda(),\n",
        "                  weight.new(self.n_layers, batch_size, self.n_hidden).zero_().cuda())\n",
        "        else:\n",
        "            hidden = (weight.new(self.n_layers, batch_size, self.n_hidden).zero_(),\n",
        "                      weight.new(self.n_layers, batch_size, self.n_hidden).zero_())\n",
        "        \n",
        "        return hidden\n",
        "        "
      ],
      "execution_count": 0,
      "outputs": []
    },
    {
      "metadata": {
        "id": "r7Ylg5GcsxW3",
        "colab_type": "text"
      },
      "cell_type": "markdown",
      "source": [
        "## Time to train\n",
        "\n",
        "The train function gives us the ability to set the number of epochs, the learning rate, and other parameters.\n",
        "\n",
        "Below we're using an Adam optimizer and cross entropy loss since we are looking at character class scores as output. We calculate the loss and perform backpropagation, as usual!\n",
        "\n",
        "A couple of details about training: \n",
        ">* Within the batch loop, we detach the hidden state from its history; this time setting it equal to a new *tuple* variable because an LSTM has a hidden state that is a tuple of the hidden and cell states.\n",
        "* We use [`clip_grad_norm_`](https://pytorch.org/docs/stable/_modules/torch/nn/utils/clip_grad.html) to help prevent exploding gradients."
      ]
    },
    {
      "metadata": {
        "id": "j9UsRxQgsxW3",
        "colab_type": "code",
        "colab": {}
      },
      "cell_type": "code",
      "source": [
        "def train(net, data, epochs=10, batch_size=10, seq_length=50, lr=0.001, clip=5, val_frac=0.1, print_every=10):\n",
        "    ''' Training a network \n",
        "    \n",
        "        Arguments\n",
        "        ---------\n",
        "        \n",
        "        net: CharRNN network\n",
        "        data: text data to train the network\n",
        "        epochs: Number of epochs to train\n",
        "        batch_size: Number of mini-sequences per mini-batch, aka batch size\n",
        "        seq_length: Number of character steps per mini-batch\n",
        "        lr: learning rate\n",
        "        clip: gradient clipping\n",
        "        val_frac: Fraction of data to hold out for validation\n",
        "        print_every: Number of steps for printing training and validation loss\n",
        "    \n",
        "    '''\n",
        "    net.train()\n",
        "    \n",
        "    opt = torch.optim.Adam(net.parameters(), lr=lr)\n",
        "    criterion = nn.CrossEntropyLoss()\n",
        "    \n",
        "    # create training and validation data\n",
        "    val_idx = int(len(data)*(1-val_frac))\n",
        "    data, val_data = data[:val_idx], data[val_idx:]\n",
        "    \n",
        "    if(train_on_gpu):\n",
        "        net.cuda()\n",
        "    \n",
        "    counter = 0\n",
        "    n_chars = len(net.chars)\n",
        "    for e in range(epochs):\n",
        "        # initialize hidden state\n",
        "        h = net.init_hidden(batch_size)\n",
        "        \n",
        "        for x, y in get_batches(data, batch_size, seq_length):\n",
        "            counter += 1\n",
        "            \n",
        "            # One-hot encode our data and make them Torch tensors\n",
        "            x = one_hot_encode(x, n_chars)\n",
        "            inputs, targets = torch.from_numpy(x), torch.from_numpy(y)\n",
        "            \n",
        "            if(train_on_gpu):\n",
        "                inputs, targets = inputs.cuda(), targets.cuda()\n",
        "\n",
        "            # Creating new variables for the hidden state, otherwise\n",
        "            # we'd backprop through the entire training history\n",
        "            h = tuple([each.data for each in h])\n",
        "\n",
        "            # zero accumulated gradients\n",
        "            net.zero_grad()\n",
        "            \n",
        "            # get the output from the model\n",
        "            output, h = net(inputs, h)\n",
        "            \n",
        "            # calculate the loss and perform backprop\n",
        "            loss = criterion(output, targets.view(batch_size*seq_length))\n",
        "            loss.backward()\n",
        "            # `clip_grad_norm` helps prevent the exploding gradient problem in RNNs / LSTMs.\n",
        "            nn.utils.clip_grad_norm_(net.parameters(), clip)\n",
        "            opt.step()\n",
        "            \n",
        "            # loss stats\n",
        "            if counter % print_every == 0:\n",
        "                # Get validation loss\n",
        "                val_h = net.init_hidden(batch_size)\n",
        "                val_losses = []\n",
        "                net.eval()\n",
        "                for x, y in get_batches(val_data, batch_size, seq_length):\n",
        "                    # One-hot encode our data and make them Torch tensors\n",
        "                    x = one_hot_encode(x, n_chars)\n",
        "                    x, y = torch.from_numpy(x), torch.from_numpy(y)\n",
        "                    \n",
        "                    # Creating new variables for the hidden state, otherwise\n",
        "                    # we'd backprop through the entire training history\n",
        "                    val_h = tuple([each.data for each in val_h])\n",
        "                    \n",
        "                    inputs, targets = x, y\n",
        "                    if(train_on_gpu):\n",
        "                        inputs, targets = inputs.cuda(), targets.cuda()\n",
        "\n",
        "                    output, val_h = net(inputs, val_h)\n",
        "                    val_loss = criterion(output, targets.view(batch_size*seq_length))\n",
        "                \n",
        "                    val_losses.append(val_loss.item())\n",
        "                \n",
        "                net.train() # reset to train mode after iterationg through validation data\n",
        "                \n",
        "                print(\"Epoch: {}/{}...\".format(e+1, epochs),\n",
        "                      \"Step: {}...\".format(counter),\n",
        "                      \"Loss: {:.4f}...\".format(loss.item()),\n",
        "                      \"Val Loss: {:.4f}\".format(np.mean(val_losses)))"
      ],
      "execution_count": 0,
      "outputs": []
    },
    {
      "metadata": {
        "id": "M2nLMfAUsxW-",
        "colab_type": "text"
      },
      "cell_type": "markdown",
      "source": [
        "## Instantiating the model\n",
        "\n",
        "Now we can actually train the network. First we'll create the network itself, with some given hyperparameters. Then, define the mini-batches sizes, and start training!"
      ]
    },
    {
      "metadata": {
        "id": "NGI4JEvRsxW-",
        "colab_type": "code",
        "colab": {
          "base_uri": "https://localhost:8080/",
          "height": 102
        },
        "outputId": "206c3ea4-7554-4e27-e4c0-efe02369604b"
      },
      "cell_type": "code",
      "source": [
        "# set you model hyperparameters\n",
        "# define and print the net\n",
        "n_hidden=512\n",
        "n_layers=2\n",
        "\n",
        "net = CharRNN(chars, n_hidden, n_layers)\n",
        "print(net)"
      ],
      "execution_count": 42,
      "outputs": [
        {
          "output_type": "stream",
          "text": [
            "CharRNN(\n",
            "  (lstm): LSTM(83, 512, num_layers=2, batch_first=True, dropout=0.5)\n",
            "  (linear): Linear(in_features=512, out_features=83, bias=True)\n",
            "  (dropout): Dropout(p=0.5)\n",
            ")\n"
          ],
          "name": "stdout"
        }
      ]
    },
    {
      "metadata": {
        "id": "DpCxgRxQsxXC",
        "colab_type": "text"
      },
      "cell_type": "markdown",
      "source": [
        "### Set your training hyperparameters!"
      ]
    },
    {
      "metadata": {
        "scrolled": true,
        "id": "67CqGtKmsxXF",
        "colab_type": "code",
        "colab": {
          "base_uri": "https://localhost:8080/",
          "height": 9809
        },
        "outputId": "87662464-0561-4aca-de7d-9add60bdfa6d"
      },
      "cell_type": "code",
      "source": [
        "batch_size = 128\n",
        "seq_length = 100\n",
        "n_epochs = 20 # start small if you are just testing initial behavior\n",
        "\n",
        "# train the model\n",
        "train(net, encoded, epochs=n_epochs, batch_size=batch_size, seq_length=seq_length, lr=0.001, print_every=10)"
      ],
      "execution_count": 43,
      "outputs": [
        {
          "output_type": "stream",
          "text": [
            "error\n",
            "Epoch: 1/20... Step: 10... Loss: 3.2617... Val Loss: 3.1838\n",
            "error\n",
            "Epoch: 1/20... Step: 20... Loss: 3.1437... Val Loss: 3.1318\n",
            "error\n",
            "Epoch: 1/20... Step: 30... Loss: 3.1392... Val Loss: 3.1228\n",
            "error\n",
            "Epoch: 1/20... Step: 40... Loss: 3.1153... Val Loss: 3.1198\n",
            "error\n",
            "Epoch: 1/20... Step: 50... Loss: 3.1382... Val Loss: 3.1175\n",
            "error\n",
            "Epoch: 1/20... Step: 60... Loss: 3.1172... Val Loss: 3.1158\n",
            "error\n",
            "Epoch: 1/20... Step: 70... Loss: 3.1057... Val Loss: 3.1144\n",
            "error\n",
            "Epoch: 1/20... Step: 80... Loss: 3.1235... Val Loss: 3.1111\n",
            "error\n",
            "Epoch: 1/20... Step: 90... Loss: 3.1188... Val Loss: 3.1025\n",
            "error\n",
            "Epoch: 1/20... Step: 100... Loss: 3.0933... Val Loss: 3.0856\n",
            "error\n",
            "Epoch: 1/20... Step: 110... Loss: 3.0629... Val Loss: 3.0441\n",
            "error\n",
            "Epoch: 1/20... Step: 120... Loss: 2.9745... Val Loss: 2.9622\n",
            "error\n",
            "Epoch: 1/20... Step: 130... Loss: 2.9163... Val Loss: 2.8735\n",
            "error\n",
            "error\n",
            "Epoch: 2/20... Step: 140... Loss: 2.8062... Val Loss: 2.7538\n",
            "error\n",
            "Epoch: 2/20... Step: 150... Loss: 2.7276... Val Loss: 2.6610\n",
            "error\n",
            "Epoch: 2/20... Step: 160... Loss: 2.6213... Val Loss: 2.5880\n",
            "error\n",
            "Epoch: 2/20... Step: 170... Loss: 2.5470... Val Loss: 2.5338\n",
            "error\n",
            "Epoch: 2/20... Step: 180... Loss: 2.5170... Val Loss: 2.4994\n",
            "error\n",
            "Epoch: 2/20... Step: 190... Loss: 2.4720... Val Loss: 2.4572\n",
            "error\n",
            "Epoch: 2/20... Step: 200... Loss: 2.4619... Val Loss: 2.4369\n",
            "error\n",
            "Epoch: 2/20... Step: 210... Loss: 2.4297... Val Loss: 2.3991\n",
            "error\n",
            "Epoch: 2/20... Step: 220... Loss: 2.3941... Val Loss: 2.3664\n",
            "error\n",
            "Epoch: 2/20... Step: 230... Loss: 2.3639... Val Loss: 2.3365\n",
            "error\n",
            "Epoch: 2/20... Step: 240... Loss: 2.3605... Val Loss: 2.3152\n",
            "error\n",
            "Epoch: 2/20... Step: 250... Loss: 2.2864... Val Loss: 2.2857\n",
            "error\n",
            "Epoch: 2/20... Step: 260... Loss: 2.2621... Val Loss: 2.2577\n",
            "error\n",
            "Epoch: 2/20... Step: 270... Loss: 2.2625... Val Loss: 2.2327\n",
            "error\n",
            "error\n",
            "Epoch: 3/20... Step: 280... Loss: 2.2720... Val Loss: 2.2152\n",
            "error\n",
            "Epoch: 3/20... Step: 290... Loss: 2.2291... Val Loss: 2.1902\n",
            "error\n",
            "Epoch: 3/20... Step: 300... Loss: 2.2031... Val Loss: 2.1675\n",
            "error\n",
            "Epoch: 3/20... Step: 310... Loss: 2.1767... Val Loss: 2.1485\n",
            "error\n",
            "Epoch: 3/20... Step: 320... Loss: 2.1497... Val Loss: 2.1257\n",
            "error\n",
            "Epoch: 3/20... Step: 330... Loss: 2.1107... Val Loss: 2.1059\n",
            "error\n",
            "Epoch: 3/20... Step: 340... Loss: 2.1367... Val Loss: 2.0923\n",
            "error\n",
            "Epoch: 3/20... Step: 350... Loss: 2.1274... Val Loss: 2.0742\n",
            "error\n",
            "Epoch: 3/20... Step: 360... Loss: 2.0522... Val Loss: 2.0596\n",
            "error\n",
            "Epoch: 3/20... Step: 370... Loss: 2.0827... Val Loss: 2.0402\n",
            "error\n",
            "Epoch: 3/20... Step: 380... Loss: 2.0546... Val Loss: 2.0260\n",
            "error\n",
            "Epoch: 3/20... Step: 390... Loss: 2.0274... Val Loss: 2.0086\n",
            "error\n",
            "Epoch: 3/20... Step: 400... Loss: 2.0079... Val Loss: 1.9921\n",
            "error\n",
            "Epoch: 3/20... Step: 410... Loss: 2.0165... Val Loss: 1.9785\n",
            "error\n",
            "error\n",
            "Epoch: 4/20... Step: 420... Loss: 1.9966... Val Loss: 1.9646\n",
            "error\n",
            "Epoch: 4/20... Step: 430... Loss: 1.9875... Val Loss: 1.9504\n",
            "error\n",
            "Epoch: 4/20... Step: 440... Loss: 1.9750... Val Loss: 1.9417\n",
            "error\n",
            "Epoch: 4/20... Step: 450... Loss: 1.9106... Val Loss: 1.9240\n",
            "error\n",
            "Epoch: 4/20... Step: 460... Loss: 1.9051... Val Loss: 1.9118\n",
            "error\n",
            "Epoch: 4/20... Step: 470... Loss: 1.9339... Val Loss: 1.9030\n",
            "error\n",
            "Epoch: 4/20... Step: 480... Loss: 1.9223... Val Loss: 1.8905\n",
            "error\n",
            "Epoch: 4/20... Step: 490... Loss: 1.9118... Val Loss: 1.8770\n",
            "error\n",
            "Epoch: 4/20... Step: 500... Loss: 1.9187... Val Loss: 1.8663\n",
            "error\n",
            "Epoch: 4/20... Step: 510... Loss: 1.8819... Val Loss: 1.8585\n",
            "error\n",
            "Epoch: 4/20... Step: 520... Loss: 1.9045... Val Loss: 1.8463\n",
            "error\n",
            "Epoch: 4/20... Step: 530... Loss: 1.8638... Val Loss: 1.8331\n",
            "error\n",
            "Epoch: 4/20... Step: 540... Loss: 1.8253... Val Loss: 1.8233\n",
            "error\n",
            "Epoch: 4/20... Step: 550... Loss: 1.8526... Val Loss: 1.8091\n",
            "error\n",
            "error\n",
            "Epoch: 5/20... Step: 560... Loss: 1.8279... Val Loss: 1.8059\n",
            "error\n",
            "Epoch: 5/20... Step: 570... Loss: 1.8178... Val Loss: 1.7918\n",
            "error\n",
            "Epoch: 5/20... Step: 580... Loss: 1.7884... Val Loss: 1.7811\n",
            "error\n",
            "Epoch: 5/20... Step: 590... Loss: 1.7969... Val Loss: 1.7680\n",
            "error\n",
            "Epoch: 5/20... Step: 600... Loss: 1.7839... Val Loss: 1.7628\n",
            "error\n",
            "Epoch: 5/20... Step: 610... Loss: 1.7629... Val Loss: 1.7567\n",
            "error\n",
            "Epoch: 5/20... Step: 620... Loss: 1.7687... Val Loss: 1.7492\n",
            "error\n",
            "Epoch: 5/20... Step: 630... Loss: 1.7784... Val Loss: 1.7411\n",
            "error\n",
            "Epoch: 5/20... Step: 640... Loss: 1.7499... Val Loss: 1.7329\n",
            "error\n",
            "Epoch: 5/20... Step: 650... Loss: 1.7532... Val Loss: 1.7236\n",
            "error\n",
            "Epoch: 5/20... Step: 660... Loss: 1.7051... Val Loss: 1.7172\n",
            "error\n",
            "Epoch: 5/20... Step: 670... Loss: 1.7459... Val Loss: 1.7104\n",
            "error\n",
            "Epoch: 5/20... Step: 680... Loss: 1.7396... Val Loss: 1.7012\n",
            "error\n",
            "Epoch: 5/20... Step: 690... Loss: 1.7128... Val Loss: 1.6917\n",
            "error\n",
            "error\n",
            "Epoch: 6/20... Step: 700... Loss: 1.7155... Val Loss: 1.6862\n",
            "error\n",
            "Epoch: 6/20... Step: 710... Loss: 1.7014... Val Loss: 1.6819\n",
            "error\n",
            "Epoch: 6/20... Step: 720... Loss: 1.6894... Val Loss: 1.6754\n",
            "error\n",
            "Epoch: 6/20... Step: 730... Loss: 1.6974... Val Loss: 1.6651\n",
            "error\n",
            "Epoch: 6/20... Step: 740... Loss: 1.6761... Val Loss: 1.6612\n",
            "error\n",
            "Epoch: 6/20... Step: 750... Loss: 1.6414... Val Loss: 1.6584\n",
            "error\n",
            "Epoch: 6/20... Step: 760... Loss: 1.6811... Val Loss: 1.6468\n",
            "error\n",
            "Epoch: 6/20... Step: 770... Loss: 1.6691... Val Loss: 1.6437\n",
            "error\n",
            "Epoch: 6/20... Step: 780... Loss: 1.6426... Val Loss: 1.6368\n",
            "error\n",
            "Epoch: 6/20... Step: 790... Loss: 1.6313... Val Loss: 1.6320\n",
            "error\n",
            "Epoch: 6/20... Step: 800... Loss: 1.6586... Val Loss: 1.6272\n",
            "error\n",
            "Epoch: 6/20... Step: 810... Loss: 1.6395... Val Loss: 1.6223\n",
            "error\n",
            "Epoch: 6/20... Step: 820... Loss: 1.6043... Val Loss: 1.6185\n",
            "error\n",
            "Epoch: 6/20... Step: 830... Loss: 1.6511... Val Loss: 1.6065\n",
            "error\n",
            "error\n",
            "Epoch: 7/20... Step: 840... Loss: 1.5947... Val Loss: 1.6047\n",
            "error\n",
            "Epoch: 7/20... Step: 850... Loss: 1.6221... Val Loss: 1.5994\n",
            "error\n",
            "Epoch: 7/20... Step: 860... Loss: 1.5962... Val Loss: 1.5940\n",
            "error\n",
            "Epoch: 7/20... Step: 870... Loss: 1.6002... Val Loss: 1.5894\n",
            "error\n",
            "Epoch: 7/20... Step: 880... Loss: 1.6089... Val Loss: 1.5866\n",
            "error\n",
            "Epoch: 7/20... Step: 890... Loss: 1.6063... Val Loss: 1.5849\n",
            "error\n",
            "Epoch: 7/20... Step: 900... Loss: 1.5844... Val Loss: 1.5806\n",
            "error\n",
            "Epoch: 7/20... Step: 910... Loss: 1.5514... Val Loss: 1.5726\n",
            "error\n",
            "Epoch: 7/20... Step: 920... Loss: 1.5828... Val Loss: 1.5687\n",
            "error\n",
            "Epoch: 7/20... Step: 930... Loss: 1.5600... Val Loss: 1.5660\n",
            "error\n",
            "Epoch: 7/20... Step: 940... Loss: 1.5696... Val Loss: 1.5600\n",
            "error\n",
            "Epoch: 7/20... Step: 950... Loss: 1.5777... Val Loss: 1.5549\n",
            "error\n",
            "Epoch: 7/20... Step: 960... Loss: 1.5732... Val Loss: 1.5504\n",
            "error\n",
            "Epoch: 7/20... Step: 970... Loss: 1.5807... Val Loss: 1.5458\n",
            "error\n",
            "error\n",
            "Epoch: 8/20... Step: 980... Loss: 1.5554... Val Loss: 1.5422\n",
            "error\n",
            "Epoch: 8/20... Step: 990... Loss: 1.5550... Val Loss: 1.5373\n",
            "error\n",
            "Epoch: 8/20... Step: 1000... Loss: 1.5374... Val Loss: 1.5369\n",
            "error\n",
            "Epoch: 8/20... Step: 1010... Loss: 1.5835... Val Loss: 1.5320\n",
            "error\n",
            "Epoch: 8/20... Step: 1020... Loss: 1.5412... Val Loss: 1.5295\n",
            "error\n",
            "Epoch: 8/20... Step: 1030... Loss: 1.5322... Val Loss: 1.5258\n",
            "error\n",
            "Epoch: 8/20... Step: 1040... Loss: 1.5426... Val Loss: 1.5302\n",
            "error\n",
            "Epoch: 8/20... Step: 1050... Loss: 1.5156... Val Loss: 1.5202\n",
            "error\n",
            "Epoch: 8/20... Step: 1060... Loss: 1.5268... Val Loss: 1.5173\n",
            "error\n",
            "Epoch: 8/20... Step: 1070... Loss: 1.5255... Val Loss: 1.5137\n",
            "error\n",
            "Epoch: 8/20... Step: 1080... Loss: 1.5178... Val Loss: 1.5083\n",
            "error\n",
            "Epoch: 8/20... Step: 1090... Loss: 1.5057... Val Loss: 1.5057\n",
            "error\n",
            "Epoch: 8/20... Step: 1100... Loss: 1.5053... Val Loss: 1.5033\n",
            "error\n",
            "Epoch: 8/20... Step: 1110... Loss: 1.5041... Val Loss: 1.4981\n",
            "error\n",
            "error\n",
            "Epoch: 9/20... Step: 1120... Loss: 1.5211... Val Loss: 1.4985\n",
            "error\n",
            "Epoch: 9/20... Step: 1130... Loss: 1.5098... Val Loss: 1.4907\n",
            "error\n",
            "Epoch: 9/20... Step: 1140... Loss: 1.5124... Val Loss: 1.4905\n",
            "error\n",
            "Epoch: 9/20... Step: 1150... Loss: 1.5203... Val Loss: 1.4876\n",
            "error\n",
            "Epoch: 9/20... Step: 1160... Loss: 1.4704... Val Loss: 1.4847\n",
            "error\n",
            "Epoch: 9/20... Step: 1170... Loss: 1.4868... Val Loss: 1.4812\n",
            "error\n",
            "Epoch: 9/20... Step: 1180... Loss: 1.4766... Val Loss: 1.4849\n",
            "error\n",
            "Epoch: 9/20... Step: 1190... Loss: 1.5152... Val Loss: 1.4792\n",
            "error\n",
            "Epoch: 9/20... Step: 1200... Loss: 1.4603... Val Loss: 1.4755\n",
            "error\n",
            "Epoch: 9/20... Step: 1210... Loss: 1.4628... Val Loss: 1.4753\n",
            "error\n",
            "Epoch: 9/20... Step: 1220... Loss: 1.4686... Val Loss: 1.4712\n",
            "error\n",
            "Epoch: 9/20... Step: 1230... Loss: 1.4448... Val Loss: 1.4688\n",
            "error\n",
            "Epoch: 9/20... Step: 1240... Loss: 1.4531... Val Loss: 1.4622\n",
            "error\n",
            "Epoch: 9/20... Step: 1250... Loss: 1.4640... Val Loss: 1.4616\n",
            "error\n",
            "error\n",
            "Epoch: 10/20... Step: 1260... Loss: 1.4682... Val Loss: 1.4597\n",
            "error\n",
            "Epoch: 10/20... Step: 1270... Loss: 1.4651... Val Loss: 1.4568\n",
            "error\n",
            "Epoch: 10/20... Step: 1280... Loss: 1.4696... Val Loss: 1.4579\n",
            "error\n",
            "Epoch: 10/20... Step: 1290... Loss: 1.4647... Val Loss: 1.4554\n",
            "error\n",
            "Epoch: 10/20... Step: 1300... Loss: 1.4480... Val Loss: 1.4518\n",
            "error\n",
            "Epoch: 10/20... Step: 1310... Loss: 1.4586... Val Loss: 1.4517\n",
            "error\n",
            "Epoch: 10/20... Step: 1320... Loss: 1.4361... Val Loss: 1.4519\n",
            "error\n",
            "Epoch: 10/20... Step: 1330... Loss: 1.4368... Val Loss: 1.4476\n",
            "error\n",
            "Epoch: 10/20... Step: 1340... Loss: 1.4265... Val Loss: 1.4452\n",
            "error\n",
            "Epoch: 10/20... Step: 1350... Loss: 1.4180... Val Loss: 1.4434\n",
            "error\n",
            "Epoch: 10/20... Step: 1360... Loss: 1.4204... Val Loss: 1.4438\n",
            "error\n",
            "Epoch: 10/20... Step: 1370... Loss: 1.4092... Val Loss: 1.4411\n",
            "error\n",
            "Epoch: 10/20... Step: 1380... Loss: 1.4519... Val Loss: 1.4377\n",
            "error\n",
            "error\n",
            "Epoch: 10/20... Step: 1390... Loss: 1.4491... Val Loss: 1.4326\n",
            "error\n",
            "Epoch: 11/20... Step: 1400... Loss: 1.4524... Val Loss: 1.4306\n",
            "error\n",
            "Epoch: 11/20... Step: 1410... Loss: 1.4650... Val Loss: 1.4294\n",
            "error\n",
            "Epoch: 11/20... Step: 1420... Loss: 1.4450... Val Loss: 1.4265\n",
            "error\n",
            "Epoch: 11/20... Step: 1430... Loss: 1.4167... Val Loss: 1.4275\n",
            "error\n",
            "Epoch: 11/20... Step: 1440... Loss: 1.4468... Val Loss: 1.4231\n",
            "error\n",
            "Epoch: 11/20... Step: 1450... Loss: 1.3785... Val Loss: 1.4227\n",
            "error\n",
            "Epoch: 11/20... Step: 1460... Loss: 1.4007... Val Loss: 1.4242\n",
            "error\n",
            "Epoch: 11/20... Step: 1470... Loss: 1.3921... Val Loss: 1.4216\n",
            "error\n",
            "Epoch: 11/20... Step: 1480... Loss: 1.4176... Val Loss: 1.4210\n",
            "error\n",
            "Epoch: 11/20... Step: 1490... Loss: 1.4037... Val Loss: 1.4183\n",
            "error\n",
            "Epoch: 11/20... Step: 1500... Loss: 1.3989... Val Loss: 1.4194\n",
            "error\n",
            "Epoch: 11/20... Step: 1510... Loss: 1.3711... Val Loss: 1.4162\n",
            "error\n",
            "Epoch: 11/20... Step: 1520... Loss: 1.4082... Val Loss: 1.4100\n",
            "error\n",
            "error\n",
            "Epoch: 12/20... Step: 1530... Loss: 1.4542... Val Loss: 1.4097\n",
            "error\n",
            "Epoch: 12/20... Step: 1540... Loss: 1.4152... Val Loss: 1.4061\n",
            "error\n",
            "Epoch: 12/20... Step: 1550... Loss: 1.4112... Val Loss: 1.4073\n",
            "error\n",
            "Epoch: 12/20... Step: 1560... Loss: 1.4247... Val Loss: 1.4046\n",
            "error\n",
            "Epoch: 12/20... Step: 1570... Loss: 1.3787... Val Loss: 1.4037\n",
            "error\n",
            "Epoch: 12/20... Step: 1580... Loss: 1.3610... Val Loss: 1.4032\n",
            "error\n",
            "Epoch: 12/20... Step: 1590... Loss: 1.3533... Val Loss: 1.4017\n",
            "error\n",
            "Epoch: 12/20... Step: 1600... Loss: 1.3883... Val Loss: 1.4016\n",
            "error\n",
            "Epoch: 12/20... Step: 1610... Loss: 1.3690... Val Loss: 1.4018\n",
            "error\n",
            "Epoch: 12/20... Step: 1620... Loss: 1.3674... Val Loss: 1.4010\n",
            "error\n",
            "Epoch: 12/20... Step: 1630... Loss: 1.3854... Val Loss: 1.3964\n",
            "error\n",
            "Epoch: 12/20... Step: 1640... Loss: 1.3690... Val Loss: 1.3987\n",
            "error\n",
            "Epoch: 12/20... Step: 1650... Loss: 1.3418... Val Loss: 1.3947\n",
            "error\n",
            "Epoch: 12/20... Step: 1660... Loss: 1.3986... Val Loss: 1.3914\n",
            "error\n",
            "error\n",
            "Epoch: 13/20... Step: 1670... Loss: 1.3674... Val Loss: 1.3893\n",
            "error\n",
            "Epoch: 13/20... Step: 1680... Loss: 1.3793... Val Loss: 1.3869\n",
            "error\n",
            "Epoch: 13/20... Step: 1690... Loss: 1.3586... Val Loss: 1.3858\n",
            "error\n",
            "Epoch: 13/20... Step: 1700... Loss: 1.3717... Val Loss: 1.3852\n",
            "error\n",
            "Epoch: 13/20... Step: 1710... Loss: 1.3319... Val Loss: 1.3852\n",
            "error\n",
            "Epoch: 13/20... Step: 1720... Loss: 1.3572... Val Loss: 1.3859\n",
            "error\n",
            "Epoch: 13/20... Step: 1730... Loss: 1.3866... Val Loss: 1.3825\n",
            "error\n",
            "Epoch: 13/20... Step: 1740... Loss: 1.3489... Val Loss: 1.3835\n",
            "error\n",
            "Epoch: 13/20... Step: 1750... Loss: 1.3169... Val Loss: 1.3822\n",
            "error\n",
            "Epoch: 13/20... Step: 1760... Loss: 1.3425... Val Loss: 1.3787\n",
            "error\n",
            "Epoch: 13/20... Step: 1770... Loss: 1.3633... Val Loss: 1.3787\n",
            "error\n",
            "Epoch: 13/20... Step: 1780... Loss: 1.3448... Val Loss: 1.3792\n",
            "error\n",
            "Epoch: 13/20... Step: 1790... Loss: 1.3319... Val Loss: 1.3737\n",
            "error\n",
            "Epoch: 13/20... Step: 1800... Loss: 1.3471... Val Loss: 1.3750\n",
            "error\n",
            "error\n",
            "Epoch: 14/20... Step: 1810... Loss: 1.3525... Val Loss: 1.3725\n",
            "error\n",
            "Epoch: 14/20... Step: 1820... Loss: 1.3410... Val Loss: 1.3709\n",
            "error\n",
            "Epoch: 14/20... Step: 1830... Loss: 1.3676... Val Loss: 1.3694\n",
            "error\n",
            "Epoch: 14/20... Step: 1840... Loss: 1.3104... Val Loss: 1.3707\n",
            "error\n",
            "Epoch: 14/20... Step: 1850... Loss: 1.2924... Val Loss: 1.3695\n",
            "error\n",
            "Epoch: 14/20... Step: 1860... Loss: 1.3515... Val Loss: 1.3677\n",
            "error\n",
            "Epoch: 14/20... Step: 1870... Loss: 1.3608... Val Loss: 1.3662\n",
            "error\n",
            "Epoch: 14/20... Step: 1880... Loss: 1.3461... Val Loss: 1.3669\n",
            "error\n",
            "Epoch: 14/20... Step: 1890... Loss: 1.3652... Val Loss: 1.3668\n",
            "error\n",
            "Epoch: 14/20... Step: 1900... Loss: 1.3383... Val Loss: 1.3642\n",
            "error\n",
            "Epoch: 14/20... Step: 1910... Loss: 1.3355... Val Loss: 1.3633\n",
            "error\n",
            "Epoch: 14/20... Step: 1920... Loss: 1.3358... Val Loss: 1.3628\n",
            "error\n",
            "Epoch: 14/20... Step: 1930... Loss: 1.3012... Val Loss: 1.3607\n",
            "error\n",
            "Epoch: 14/20... Step: 1940... Loss: 1.3588... Val Loss: 1.3583\n",
            "error\n",
            "error\n",
            "Epoch: 15/20... Step: 1950... Loss: 1.3154... Val Loss: 1.3578\n",
            "error\n",
            "Epoch: 15/20... Step: 1960... Loss: 1.3223... Val Loss: 1.3574\n",
            "error\n",
            "Epoch: 15/20... Step: 1970... Loss: 1.3161... Val Loss: 1.3565\n",
            "error\n",
            "Epoch: 15/20... Step: 1980... Loss: 1.3012... Val Loss: 1.3580\n",
            "error\n",
            "Epoch: 15/20... Step: 1990... Loss: 1.3032... Val Loss: 1.3568\n",
            "error\n",
            "Epoch: 15/20... Step: 2000... Loss: 1.2864... Val Loss: 1.3540\n",
            "error\n",
            "Epoch: 15/20... Step: 2010... Loss: 1.3203... Val Loss: 1.3528\n",
            "error\n",
            "Epoch: 15/20... Step: 2020... Loss: 1.3364... Val Loss: 1.3579\n",
            "error\n",
            "Epoch: 15/20... Step: 2030... Loss: 1.3067... Val Loss: 1.3539\n",
            "error\n",
            "Epoch: 15/20... Step: 2040... Loss: 1.3178... Val Loss: 1.3519\n",
            "error\n",
            "Epoch: 15/20... Step: 2050... Loss: 1.3047... Val Loss: 1.3510\n",
            "error\n",
            "Epoch: 15/20... Step: 2060... Loss: 1.3104... Val Loss: 1.3490\n",
            "error\n",
            "Epoch: 15/20... Step: 2070... Loss: 1.3192... Val Loss: 1.3473\n",
            "error\n",
            "Epoch: 15/20... Step: 2080... Loss: 1.3082... Val Loss: 1.3527\n",
            "error\n",
            "error\n",
            "Epoch: 16/20... Step: 2090... Loss: 1.3177... Val Loss: 1.3473\n",
            "error\n",
            "Epoch: 16/20... Step: 2100... Loss: 1.3057... Val Loss: 1.3472\n",
            "error\n",
            "Epoch: 16/20... Step: 2110... Loss: 1.2973... Val Loss: 1.3445\n",
            "error\n",
            "Epoch: 16/20... Step: 2120... Loss: 1.2990... Val Loss: 1.3474\n",
            "error\n",
            "Epoch: 16/20... Step: 2130... Loss: 1.2784... Val Loss: 1.3440\n",
            "error\n",
            "Epoch: 16/20... Step: 2140... Loss: 1.2984... Val Loss: 1.3414\n",
            "error\n",
            "Epoch: 16/20... Step: 2150... Loss: 1.3131... Val Loss: 1.3427\n",
            "error\n",
            "Epoch: 16/20... Step: 2160... Loss: 1.2990... Val Loss: 1.3399\n",
            "error\n",
            "Epoch: 16/20... Step: 2170... Loss: 1.3043... Val Loss: 1.3433\n",
            "error\n",
            "Epoch: 16/20... Step: 2180... Loss: 1.2850... Val Loss: 1.3389\n",
            "error\n",
            "Epoch: 16/20... Step: 2190... Loss: 1.3082... Val Loss: 1.3405\n",
            "error\n",
            "Epoch: 16/20... Step: 2200... Loss: 1.2881... Val Loss: 1.3370\n",
            "error\n",
            "Epoch: 16/20... Step: 2210... Loss: 1.2580... Val Loss: 1.3354\n",
            "error\n",
            "Epoch: 16/20... Step: 2220... Loss: 1.3011... Val Loss: 1.3381\n",
            "error\n",
            "error\n",
            "Epoch: 17/20... Step: 2230... Loss: 1.2701... Val Loss: 1.3381\n",
            "error\n",
            "Epoch: 17/20... Step: 2240... Loss: 1.2826... Val Loss: 1.3381\n",
            "error\n",
            "Epoch: 17/20... Step: 2250... Loss: 1.2697... Val Loss: 1.3379\n",
            "error\n",
            "Epoch: 17/20... Step: 2260... Loss: 1.2865... Val Loss: 1.3345\n",
            "error\n",
            "Epoch: 17/20... Step: 2270... Loss: 1.2884... Val Loss: 1.3346\n",
            "error\n",
            "Epoch: 17/20... Step: 2280... Loss: 1.2901... Val Loss: 1.3297\n",
            "error\n",
            "Epoch: 17/20... Step: 2290... Loss: 1.2972... Val Loss: 1.3319\n",
            "error\n",
            "Epoch: 17/20... Step: 2300... Loss: 1.2528... Val Loss: 1.3337\n",
            "error\n",
            "Epoch: 17/20... Step: 2310... Loss: 1.2738... Val Loss: 1.3303\n",
            "error\n",
            "Epoch: 17/20... Step: 2320... Loss: 1.2694... Val Loss: 1.3292\n",
            "error\n",
            "Epoch: 17/20... Step: 2330... Loss: 1.2742... Val Loss: 1.3311\n",
            "error\n",
            "Epoch: 17/20... Step: 2340... Loss: 1.2800... Val Loss: 1.3285\n",
            "error\n",
            "Epoch: 17/20... Step: 2350... Loss: 1.2889... Val Loss: 1.3269\n",
            "error\n",
            "Epoch: 17/20... Step: 2360... Loss: 1.2888... Val Loss: 1.3281\n",
            "error\n",
            "error\n",
            "Epoch: 18/20... Step: 2370... Loss: 1.2582... Val Loss: 1.3289\n",
            "error\n",
            "Epoch: 18/20... Step: 2380... Loss: 1.2713... Val Loss: 1.3276\n",
            "error\n",
            "Epoch: 18/20... Step: 2390... Loss: 1.2754... Val Loss: 1.3260\n",
            "error\n",
            "Epoch: 18/20... Step: 2400... Loss: 1.3006... Val Loss: 1.3259\n",
            "error\n",
            "Epoch: 18/20... Step: 2410... Loss: 1.2922... Val Loss: 1.3249\n",
            "error\n",
            "Epoch: 18/20... Step: 2420... Loss: 1.2686... Val Loss: 1.3217\n",
            "error\n",
            "Epoch: 18/20... Step: 2430... Loss: 1.2800... Val Loss: 1.3211\n",
            "error\n",
            "Epoch: 18/20... Step: 2440... Loss: 1.2583... Val Loss: 1.3196\n",
            "error\n",
            "Epoch: 18/20... Step: 2450... Loss: 1.2543... Val Loss: 1.3188\n",
            "error\n",
            "Epoch: 18/20... Step: 2460... Loss: 1.2681... Val Loss: 1.3208\n",
            "error\n",
            "Epoch: 18/20... Step: 2470... Loss: 1.2677... Val Loss: 1.3209\n",
            "error\n",
            "Epoch: 18/20... Step: 2480... Loss: 1.2618... Val Loss: 1.3183\n",
            "error\n",
            "Epoch: 18/20... Step: 2490... Loss: 1.2588... Val Loss: 1.3186\n",
            "error\n",
            "Epoch: 18/20... Step: 2500... Loss: 1.2514... Val Loss: 1.3170\n",
            "error\n",
            "error\n",
            "Epoch: 19/20... Step: 2510... Loss: 1.2605... Val Loss: 1.3168\n",
            "error\n",
            "Epoch: 19/20... Step: 2520... Loss: 1.2789... Val Loss: 1.3225\n",
            "error\n",
            "Epoch: 19/20... Step: 2530... Loss: 1.2733... Val Loss: 1.3208\n",
            "error\n",
            "Epoch: 19/20... Step: 2540... Loss: 1.2885... Val Loss: 1.3184\n",
            "error\n",
            "Epoch: 19/20... Step: 2550... Loss: 1.2500... Val Loss: 1.3157\n",
            "error\n",
            "Epoch: 19/20... Step: 2560... Loss: 1.2672... Val Loss: 1.3125\n",
            "error\n",
            "Epoch: 19/20... Step: 2570... Loss: 1.2477... Val Loss: 1.3145\n",
            "error\n",
            "Epoch: 19/20... Step: 2580... Loss: 1.2744... Val Loss: 1.3135\n",
            "error\n",
            "Epoch: 19/20... Step: 2590... Loss: 1.2392... Val Loss: 1.3103\n",
            "error\n",
            "Epoch: 19/20... Step: 2600... Loss: 1.2425... Val Loss: 1.3135\n",
            "error\n",
            "Epoch: 19/20... Step: 2610... Loss: 1.2453... Val Loss: 1.3133\n",
            "error\n",
            "Epoch: 19/20... Step: 2620... Loss: 1.2353... Val Loss: 1.3123\n",
            "error\n",
            "Epoch: 19/20... Step: 2630... Loss: 1.2420... Val Loss: 1.3123\n",
            "error\n",
            "Epoch: 19/20... Step: 2640... Loss: 1.2580... Val Loss: 1.3074\n",
            "error\n",
            "error\n",
            "Epoch: 20/20... Step: 2650... Loss: 1.2583... Val Loss: 1.3087\n",
            "error\n",
            "Epoch: 20/20... Step: 2660... Loss: 1.2655... Val Loss: 1.3091\n",
            "error\n",
            "Epoch: 20/20... Step: 2670... Loss: 1.2699... Val Loss: 1.3081\n",
            "error\n",
            "Epoch: 20/20... Step: 2680... Loss: 1.2560... Val Loss: 1.3106\n",
            "error\n",
            "Epoch: 20/20... Step: 2690... Loss: 1.2518... Val Loss: 1.3089\n",
            "error\n",
            "Epoch: 20/20... Step: 2700... Loss: 1.2506... Val Loss: 1.3046\n",
            "error\n",
            "Epoch: 20/20... Step: 2710... Loss: 1.2361... Val Loss: 1.3073\n",
            "error\n",
            "Epoch: 20/20... Step: 2720... Loss: 1.2271... Val Loss: 1.3061\n",
            "error\n",
            "Epoch: 20/20... Step: 2730... Loss: 1.2215... Val Loss: 1.3053\n",
            "error\n",
            "Epoch: 20/20... Step: 2740... Loss: 1.2202... Val Loss: 1.3056\n",
            "error\n",
            "Epoch: 20/20... Step: 2750... Loss: 1.2359... Val Loss: 1.3061\n",
            "error\n",
            "Epoch: 20/20... Step: 2760... Loss: 1.2249... Val Loss: 1.3058\n",
            "error\n",
            "Epoch: 20/20... Step: 2770... Loss: 1.2617... Val Loss: 1.3061\n",
            "error\n",
            "error\n",
            "Epoch: 20/20... Step: 2780... Loss: 1.2780... Val Loss: 1.3032\n"
          ],
          "name": "stdout"
        }
      ]
    },
    {
      "metadata": {
        "id": "p6bmFaXmsxXH",
        "colab_type": "text"
      },
      "cell_type": "markdown",
      "source": [
        "## Getting the best model\n",
        "\n",
        "To set your hyperparameters to get the best performance, you'll want to watch the training and validation losses. If your training loss is much lower than the validation loss, you're overfitting. Increase regularization (more dropout) or use a smaller network. If the training and validation losses are close, you're underfitting so you can increase the size of the network."
      ]
    },
    {
      "metadata": {
        "id": "bzdztK_FsxXI",
        "colab_type": "text"
      },
      "cell_type": "markdown",
      "source": [
        "## Hyperparameters\n",
        "\n",
        "Here are the hyperparameters for the network.\n",
        "\n",
        "In defining the model:\n",
        "* `n_hidden` - The number of units in the hidden layers.\n",
        "* `n_layers` - Number of hidden LSTM layers to use.\n",
        "\n",
        "We assume that dropout probability and learning rate will be kept at the default, in this example.\n",
        "\n",
        "And in training:\n",
        "* `batch_size` - Number of sequences running through the network in one pass.\n",
        "* `seq_length` - Number of characters in the sequence the network is trained on. Larger is better typically, the network will learn more long range dependencies. But it takes longer to train. 100 is typically a good number here.\n",
        "* `lr` - Learning rate for training\n",
        "\n",
        "Here's some good advice from Andrej Karpathy on training the network. I'm going to copy it in here for your benefit, but also link to [where it originally came from](https://github.com/karpathy/char-rnn#tips-and-tricks).\n",
        "\n",
        "> ## Tips and Tricks\n",
        "\n",
        ">### Monitoring Validation Loss vs. Training Loss\n",
        ">If you're somewhat new to Machine Learning or Neural Networks it can take a bit of expertise to get good models. The most important quantity to keep track of is the difference between your training loss (printed during training) and the validation loss (printed once in a while when the RNN is run on the validation data (by default every 1000 iterations)). In particular:\n",
        "\n",
        "> - If your training loss is much lower than validation loss then this means the network might be **overfitting**. Solutions to this are to decrease your network size, or to increase dropout. For example you could try dropout of 0.5 and so on.\n",
        "> - If your training/validation loss are about equal then your model is **underfitting**. Increase the size of your model (either number of layers or the raw number of neurons per layer)\n",
        "\n",
        "> ### Approximate number of parameters\n",
        "\n",
        "> The two most important parameters that control the model are `n_hidden` and `n_layers`. I would advise that you always use `n_layers` of either 2/3. The `n_hidden` can be adjusted based on how much data you have. The two important quantities to keep track of here are:\n",
        "\n",
        "> - The number of parameters in your model. This is printed when you start training.\n",
        "> - The size of your dataset. 1MB file is approximately 1 million characters.\n",
        "\n",
        ">These two should be about the same order of magnitude. It's a little tricky to tell. Here are some examples:\n",
        "\n",
        "> - I have a 100MB dataset and I'm using the default parameter settings (which currently print 150K parameters). My data size is significantly larger (100 mil >> 0.15 mil), so I expect to heavily underfit. I am thinking I can comfortably afford to make `n_hidden` larger.\n",
        "> - I have a 10MB dataset and running a 10 million parameter model. I'm slightly nervous and I'm carefully monitoring my validation loss. If it's larger than my training loss then I may want to try to increase dropout a bit and see if that helps the validation loss.\n",
        "\n",
        "> ### Best models strategy\n",
        "\n",
        ">The winning strategy to obtaining very good models (if you have the compute time) is to always err on making the network larger (as large as you're willing to wait for it to compute) and then try different dropout values (between 0,1). Whatever model has the best validation performance (the loss, written in the checkpoint filename, low is good) is the one you should use in the end.\n",
        "\n",
        ">It is very common in deep learning to run many different models with many different hyperparameter settings, and in the end take whatever checkpoint gave the best validation performance.\n",
        "\n",
        ">By the way, the size of your training and validation splits are also parameters. Make sure you have a decent amount of data in your validation set or otherwise the validation performance will be noisy and not very informative."
      ]
    },
    {
      "metadata": {
        "id": "3JqlBayUsxXJ",
        "colab_type": "text"
      },
      "cell_type": "markdown",
      "source": [
        "## Checkpoint\n",
        "\n",
        "After training, we'll save the model so we can load it again later if we need too. Here I'm saving the parameters needed to create the same architecture, the hidden layer hyperparameters and the text characters."
      ]
    },
    {
      "metadata": {
        "id": "XgcDrsaLsxXK",
        "colab_type": "code",
        "colab": {}
      },
      "cell_type": "code",
      "source": [
        "# change the name, for saving multiple files\n",
        "model_name = 'rnn_x_epoch.net'\n",
        "\n",
        "checkpoint = {'n_hidden': net.n_hidden,\n",
        "              'n_layers': net.n_layers,\n",
        "              'state_dict': net.state_dict(),\n",
        "              'tokens': net.chars}\n",
        "\n",
        "with open(model_name, 'wb') as f:\n",
        "    torch.save(checkpoint, f)"
      ],
      "execution_count": 0,
      "outputs": []
    },
    {
      "metadata": {
        "id": "QrE2XZL-sxXM",
        "colab_type": "text"
      },
      "cell_type": "markdown",
      "source": [
        "---\n",
        "## Making Predictions\n",
        "\n",
        "Now that the model is trained, we'll want to sample from it and make predictions about next characters! To sample, we pass in a character and have the network predict the next character. Then we take that character, pass it back in, and get another predicted character. Just keep doing this and you'll generate a bunch of text!\n",
        "\n",
        "### A note on the `predict`  function\n",
        "\n",
        "The output of our RNN is from a fully-connected layer and it outputs a **distribution of next-character scores**.\n",
        "\n",
        "> To actually get the next character, we apply a softmax function, which gives us a *probability* distribution that we can then sample to predict the next character.\n",
        "\n",
        "### Top K sampling\n",
        "\n",
        "Our predictions come from a categorical probability distribution over all the possible characters. We can make the sample text and make it more reasonable to handle (with less variables) by only considering some $K$ most probable characters. This will prevent the network from giving us completely absurd characters while allowing it to introduce some noise and randomness into the sampled text. Read more about [topk, here](https://pytorch.org/docs/stable/torch.html#torch.topk).\n"
      ]
    },
    {
      "metadata": {
        "id": "Xvg2gM0YsxXN",
        "colab_type": "code",
        "colab": {}
      },
      "cell_type": "code",
      "source": [
        "def predict(net, char, h=None, top_k=None):\n",
        "        ''' Given a character, predict the next character.\n",
        "            Returns the predicted character and the hidden state.\n",
        "        '''\n",
        "        \n",
        "        # tensor inputs\n",
        "        x = np.array([[net.char2int[char]]])\n",
        "        x = one_hot_encode(x, len(net.chars))\n",
        "        inputs = torch.from_numpy(x)\n",
        "        \n",
        "        if(train_on_gpu):\n",
        "            inputs = inputs.cuda()\n",
        "        \n",
        "        # detach hidden state from history\n",
        "        h = tuple([each.data for each in h])\n",
        "        # get the output of the model\n",
        "        out, h = net(inputs, h)\n",
        "\n",
        "        # get the character probabilities\n",
        "        p = F.softmax(out, dim=1).data\n",
        "        if(train_on_gpu):\n",
        "            p = p.cpu() # move to cpu\n",
        "        \n",
        "        # get top characters\n",
        "        if top_k is None:\n",
        "            top_ch = np.arange(len(net.chars))\n",
        "        else:\n",
        "            p, top_ch = p.topk(top_k)\n",
        "            top_ch = top_ch.numpy().squeeze()\n",
        "        \n",
        "        # select the likely next character with some element of randomness\n",
        "        p = p.numpy().squeeze()\n",
        "        char = np.random.choice(top_ch, p=p/p.sum())\n",
        "        \n",
        "        # return the encoded value of the predicted char and the hidden state\n",
        "        return net.int2char[char], h"
      ],
      "execution_count": 0,
      "outputs": []
    },
    {
      "metadata": {
        "id": "QMSh-9hasxXQ",
        "colab_type": "text"
      },
      "cell_type": "markdown",
      "source": [
        "### Priming and generating text \n",
        "\n",
        "Typically you'll want to prime the network so you can build up a hidden state. Otherwise the network will start out generating characters at random. In general the first bunch of characters will be a little rough since it hasn't built up a long history of characters to predict from."
      ]
    },
    {
      "metadata": {
        "id": "IEFGI1_wsxXR",
        "colab_type": "code",
        "colab": {}
      },
      "cell_type": "code",
      "source": [
        "def sample(net, size, prime='The', top_k=None):\n",
        "        \n",
        "    if(train_on_gpu):\n",
        "        net.cuda()\n",
        "    else:\n",
        "        net.cpu()\n",
        "    \n",
        "    net.eval() # eval mode\n",
        "    \n",
        "    # First off, run through the prime characters\n",
        "    chars = [ch for ch in prime]\n",
        "    h = net.init_hidden(1)\n",
        "    for ch in prime:\n",
        "        char, h = predict(net, ch, h, top_k=top_k)\n",
        "\n",
        "    chars.append(char)\n",
        "    \n",
        "    # Now pass in the previous character and get a new one\n",
        "    for ii in range(size):\n",
        "        char, h = predict(net, chars[-1], h, top_k=top_k)\n",
        "        chars.append(char)\n",
        "\n",
        "    return ''.join(chars)"
      ],
      "execution_count": 0,
      "outputs": []
    },
    {
      "metadata": {
        "id": "Nkf4bclwsxXT",
        "colab_type": "code",
        "colab": {
          "base_uri": "https://localhost:8080/",
          "height": 428
        },
        "outputId": "1d8befe8-87ec-440f-ac6e-afd8e8c81137"
      },
      "cell_type": "code",
      "source": [
        "print(sample(net, 1000, prime='Anna', top_k=5))"
      ],
      "execution_count": 47,
      "outputs": [
        {
          "output_type": "stream",
          "text": [
            "Anna, he would not stay and\n",
            "want to do that when she\n",
            "had stonded. All the servants and cale of supper, there is the passed\n",
            "frightened and another--and weathered\n",
            "that the meanow of his wife was tears of their point. That would have not been, but was not for how that he had served out him to be delighted,\n",
            "and she saw that she were so much. Answered the charming of all the country.\n",
            "\n",
            "After\n",
            "directly, holding them to stay to\n",
            "all the sorves of carding the distunbening of the story of their sides, which was alone was not as it would have left him there to go towards them. Her\n",
            "house had\n",
            "stiffed her for his.\n",
            "\n",
            "The clinging second thoughts there was a profuted better in so that there was not a little.\n",
            "\n",
            "Anna had a moment his father's face, and she\n",
            "was talking of something. And he stopped them,\n",
            "and was in her eyes, she was starding and that shirts there was it to show her to be the more\n",
            "assearioss of his sofe wanted. There was\n",
            "nothing.\n",
            "\n",
            "\"I am as that you did stay\n",
            "to the woman, that's too. I want to say i\n"
          ],
          "name": "stdout"
        }
      ]
    },
    {
      "metadata": {
        "id": "tyCHwdr4sxXW",
        "colab_type": "text"
      },
      "cell_type": "markdown",
      "source": [
        "## Loading a checkpoint"
      ]
    },
    {
      "metadata": {
        "id": "s_w1my06sxXW",
        "colab_type": "code",
        "colab": {}
      },
      "cell_type": "code",
      "source": [
        "# Here we have loaded in a model that trained over 20 epochs `rnn_20_epoch.net`\n",
        "with open('rnn_x_epoch.net', 'rb') as f:\n",
        "    checkpoint = torch.load(f)\n",
        "    \n",
        "loaded = CharRNN(checkpoint['tokens'], n_hidden=checkpoint['n_hidden'], n_layers=checkpoint['n_layers'])\n",
        "loaded.load_state_dict(checkpoint['state_dict'])"
      ],
      "execution_count": 0,
      "outputs": []
    },
    {
      "metadata": {
        "id": "17-wSjsnsxXZ",
        "colab_type": "code",
        "colab": {
          "base_uri": "https://localhost:8080/",
          "height": 666
        },
        "outputId": "f48a0da9-b3c7-4a8b-992c-9cc35010da1d"
      },
      "cell_type": "code",
      "source": [
        "# Sample using a loaded model\n",
        "print(sample(loaded, 2000, top_k=5, prime=\"And Levin said\"))"
      ],
      "execution_count": 49,
      "outputs": [
        {
          "output_type": "stream",
          "text": [
            "And Levin said that he was\n",
            "thought and so in all the country, and was in a pruces and\n",
            "angry in their happiness. There was no still in her\n",
            "friend, and\n",
            "at that\n",
            "subject was the children's five wails as they were\n",
            "alone about the position. The discasted the misto the mistake of his father's face, who was a strange and hoped and short to him for the sumeraises and the front of the court. And the princess and Sviazhsky was an instant, but the facility in the subdiring\n",
            "head.\n",
            "\n",
            "To a man, as he should not get up to the position of socioty and\n",
            "thoughts on\n",
            "any other wife of his brother, his facess\n",
            "were as in the chair, and to dead; all those treass and all the people\n",
            "was taking her hand. The conversation of what he turned her and\n",
            "staying to the position that he went up to his hands.\n",
            "\n",
            "Alexey\n",
            "Alexandrovitch had supposed to try to see her has an angres and through his happies, and she did not\n",
            "come at him, and he felt it all the same to say something, which was\n",
            "saying the compation to his house, the same, hure\n",
            "for the middle, and stroking off it of the man and to him. He had been dinner of\n",
            "a man of this,\" said the sides.\n",
            "\n",
            "\"I can't say that I'm supporting here.\"\n",
            "\n",
            "\"Well, what is the bad,\" said Levin. \"I see you, and I should have been stronger,\" said Levin, she doubted them too struggly.\n",
            "\n",
            "\"Well, and I hear. You know his strange the charge of anything,\" answered the prince sat\n",
            "down. She went on towards the door, the chastion, which he saw that she was going to her. He was that it was the clear for her to talk, with the first time of the singer of the\n",
            "dounts off any soul at the same simplacion of the passion, to see him and showed them. She was going to began her side. He would not have left out\n",
            "the considerations in her house as in some time, to coll a singlight\n",
            "from his. He was still more. She had a subsending of\n",
            "husial, had a princess, took a child, but that in the sound of him of the marshal,\n",
            "and sating the\n",
            "children at her there\n",
            "and soriess with her hands and what in his face worlles witimes in\n",
            "th\n"
          ],
          "name": "stdout"
        }
      ]
    },
    {
      "metadata": {
        "id": "1B_H2s4MsxXc",
        "colab_type": "code",
        "colab": {}
      },
      "cell_type": "code",
      "source": [
        ""
      ],
      "execution_count": 0,
      "outputs": []
    }
  ]
}