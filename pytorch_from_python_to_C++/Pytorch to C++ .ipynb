{
 "cells": [
  {
   "cell_type": "markdown",
   "metadata": {},
   "source": [
    "# This is a small tutorial for deploying pytorch modules into C++\n",
    "\n",
    "There are two methods in which we can attain this objective:\n",
    "\n",
    "* Tracing \n",
    "* Annotations\n",
    "\n",
    "![](Resources/diagram_pytorch_to_c++.jpg)\n",
    "\n",
    "** Steps to deploy the pytorch model into C++ **\n",
    "\n",
    "* STEP 1: CONVERT THE MODEL INTO A TORCH SCRIPT\n",
    "* STEP 2: SERIALIZING YOUR SCRIPT MODULE TO A FILE\n",
    "* STEP 3: LOADING YOUR SCRIPT MODULE IN C++\n",
    "* STEP 4: EXECUTING THE SCRIPT MODULE IN C++\n"
   ]
  },
  {
   "cell_type": "markdown",
   "metadata": {},
   "source": [
    "## STEP 1: CONVERT THE MODEL INTO A TORCH SCRIPT"
   ]
  },
  {
   "cell_type": "markdown",
   "metadata": {},
   "source": [
    "## Tracing\n",
    "\n",
    "tracing is a mechanism in which the structure of the model is captured by evaluating it once using example inputs, and recording the flow of those inputs through the model. This is suitable for models that make limited use of control flow. "
   ]
  },
  {
   "cell_type": "code",
   "execution_count": 1,
   "metadata": {},
   "outputs": [],
   "source": [
    "import torch\n",
    "import torchvision\n",
    "\n",
    "# An instance of your model.\n",
    "model = torchvision.models.resnet18()\n",
    "\n",
    "# An example input you would normally provide to your model's forward() method.\n",
    "example = torch.rand(1, 3, 224, 224)\n",
    "\n",
    "# Use torch.jit.trace to generate a torch.jit.ScriptModule via tracing.\n",
    "'''jit stands for just in time comiler whick keeps track of all the steps in your model\n",
    "   to deploy them to c++ afterward'''\n",
    "traced_script_module = torch.jit.trace(model, example) "
   ]
  },
  {
   "cell_type": "code",
   "execution_count": 2,
   "metadata": {},
   "outputs": [
    {
     "data": {
      "text/plain": [
       "TracedModule[ResNet](\n",
       "  (conv1): TracedModule[Conv2d]()\n",
       "  (bn1): TracedModule[BatchNorm2d]()\n",
       "  (relu): TracedModule[ReLU]()\n",
       "  (maxpool): TracedModule[MaxPool2d]()\n",
       "  (layer1): TracedModule[Sequential](\n",
       "    (0): TracedModule[BasicBlock](\n",
       "      (conv1): TracedModule[Conv2d]()\n",
       "      (bn1): TracedModule[BatchNorm2d]()\n",
       "      (relu): TracedModule[ReLU]()\n",
       "      (conv2): TracedModule[Conv2d]()\n",
       "      (bn2): TracedModule[BatchNorm2d]()\n",
       "    )\n",
       "    (1): TracedModule[BasicBlock](\n",
       "      (conv1): TracedModule[Conv2d]()\n",
       "      (bn1): TracedModule[BatchNorm2d]()\n",
       "      (relu): TracedModule[ReLU]()\n",
       "      (conv2): TracedModule[Conv2d]()\n",
       "      (bn2): TracedModule[BatchNorm2d]()\n",
       "    )\n",
       "  )\n",
       "  (layer2): TracedModule[Sequential](\n",
       "    (0): TracedModule[BasicBlock](\n",
       "      (conv1): TracedModule[Conv2d]()\n",
       "      (bn1): TracedModule[BatchNorm2d]()\n",
       "      (relu): TracedModule[ReLU]()\n",
       "      (conv2): TracedModule[Conv2d]()\n",
       "      (bn2): TracedModule[BatchNorm2d]()\n",
       "      (downsample): TracedModule[Sequential](\n",
       "        (0): TracedModule[Conv2d]()\n",
       "        (1): TracedModule[BatchNorm2d]()\n",
       "      )\n",
       "    )\n",
       "    (1): TracedModule[BasicBlock](\n",
       "      (conv1): TracedModule[Conv2d]()\n",
       "      (bn1): TracedModule[BatchNorm2d]()\n",
       "      (relu): TracedModule[ReLU]()\n",
       "      (conv2): TracedModule[Conv2d]()\n",
       "      (bn2): TracedModule[BatchNorm2d]()\n",
       "    )\n",
       "  )\n",
       "  (layer3): TracedModule[Sequential](\n",
       "    (0): TracedModule[BasicBlock](\n",
       "      (conv1): TracedModule[Conv2d]()\n",
       "      (bn1): TracedModule[BatchNorm2d]()\n",
       "      (relu): TracedModule[ReLU]()\n",
       "      (conv2): TracedModule[Conv2d]()\n",
       "      (bn2): TracedModule[BatchNorm2d]()\n",
       "      (downsample): TracedModule[Sequential](\n",
       "        (0): TracedModule[Conv2d]()\n",
       "        (1): TracedModule[BatchNorm2d]()\n",
       "      )\n",
       "    )\n",
       "    (1): TracedModule[BasicBlock](\n",
       "      (conv1): TracedModule[Conv2d]()\n",
       "      (bn1): TracedModule[BatchNorm2d]()\n",
       "      (relu): TracedModule[ReLU]()\n",
       "      (conv2): TracedModule[Conv2d]()\n",
       "      (bn2): TracedModule[BatchNorm2d]()\n",
       "    )\n",
       "  )\n",
       "  (layer4): TracedModule[Sequential](\n",
       "    (0): TracedModule[BasicBlock](\n",
       "      (conv1): TracedModule[Conv2d]()\n",
       "      (bn1): TracedModule[BatchNorm2d]()\n",
       "      (relu): TracedModule[ReLU]()\n",
       "      (conv2): TracedModule[Conv2d]()\n",
       "      (bn2): TracedModule[BatchNorm2d]()\n",
       "      (downsample): TracedModule[Sequential](\n",
       "        (0): TracedModule[Conv2d]()\n",
       "        (1): TracedModule[BatchNorm2d]()\n",
       "      )\n",
       "    )\n",
       "    (1): TracedModule[BasicBlock](\n",
       "      (conv1): TracedModule[Conv2d]()\n",
       "      (bn1): TracedModule[BatchNorm2d]()\n",
       "      (relu): TracedModule[ReLU]()\n",
       "      (conv2): TracedModule[Conv2d]()\n",
       "      (bn2): TracedModule[BatchNorm2d]()\n",
       "    )\n",
       "  )\n",
       "  (avgpool): TracedModule[AvgPool2d]()\n",
       "  (fc): TracedModule[Linear]()\n",
       ")"
      ]
     },
     "execution_count": 2,
     "metadata": {},
     "output_type": "execute_result"
    }
   ],
   "source": [
    "## The traced ScriptModule can now be evaluated identically to a regular PyTorch module:\n",
    "traced_script_module "
   ]
  },
  {
   "cell_type": "markdown",
   "metadata": {},
   "source": [
    "## Annotations\n",
    "\n",
    "This method makes annotations of your model that inform the Torch Script compiler that it may directly parse and compile your model code, subject to the constraints imposed by the Torch Script language.\n",
    "\n",
    "To observe the changes we will depict both cases where we use pytorch for prototyping (**python**) and for production (**torch script**)"
   ]
  },
  {
   "cell_type": "markdown",
   "metadata": {},
   "source": [
    "### Prototyping\n",
    "\n",
    "This is the normal way you define your model in pytorch"
   ]
  },
  {
   "cell_type": "code",
   "execution_count": 3,
   "metadata": {},
   "outputs": [
    {
     "name": "stdout",
     "output_type": "stream",
     "text": [
      "MyModule()\n"
     ]
    }
   ],
   "source": [
    "import torch\n",
    "\n",
    "class MyModule(torch.nn.Module):\n",
    "    def __init__(self, N, M):\n",
    "        super(MyModule, self).__init__()\n",
    "        self.weight = torch.nn.Parameter(torch.rand(N, M))\n",
    "\n",
    "    def forward(self, input):\n",
    "        if int(input.sum()) > 0:\n",
    "          output = self.weight.mv(input)\n",
    "        else:\n",
    "          output = self.weight + input\n",
    "        return output\n",
    "# print model\n",
    "model = MyModule(5,10)\n",
    "print(model)"
   ]
  },
  {
   "cell_type": "markdown",
   "metadata": {},
   "source": [
    "**NOTE:** You could clearly see here that tracing is not suitable for this model because we have a if statement in the forward function, which means that the model depends on the input, and since **tracing** tries out random inputs it might not get all the flow from the model "
   ]
  },
  {
   "cell_type": "markdown",
   "metadata": {},
   "source": [
    "### Production deployment\n",
    "\n",
    "This is the way to follow when we want to deploy the same model into a torch script for production purposes"
   ]
  },
  {
   "cell_type": "code",
   "execution_count": 4,
   "metadata": {},
   "outputs": [
    {
     "name": "stdout",
     "output_type": "stream",
     "text": [
      "MyModule()\n"
     ]
    }
   ],
   "source": [
    "##just 2 lines change\n",
    "import torch\n",
    "\n",
    "class MyModule(torch.jit.ScriptModule): # 1st line modification\n",
    "    def __init__(self, N, M):\n",
    "        super(MyModule, self).__init__()\n",
    "        self.weight = torch.nn.Parameter(torch.rand(N, M))\n",
    "\n",
    "    @torch.jit.script_method # 2nd line addition of an annotation, hence the name of the method \n",
    "    def forward(self, input):\n",
    "        if int(input.sum()) > 0:\n",
    "          output = self.weight.mv(input)\n",
    "        else:\n",
    "          output = self.weight + input\n",
    "        return output\n",
    "\n",
    "my_script_module = MyModule(5, 10)\n",
    "print(my_script_module)"
   ]
  },
  {
   "cell_type": "markdown",
   "metadata": {},
   "source": [
    "## STEP 2: SERIALIZING YOUR SCRIPT MODULE TO A FILE\n",
    "\n",
    "Serializing is the process of translating the data structure to a format in which the model can be stored. If you want a more detailed explanation on serialization, please refer to this [link](https://en.wikipedia.org/wiki/Serialization)"
   ]
  },
  {
   "cell_type": "code",
   "execution_count": 5,
   "metadata": {},
   "outputs": [],
   "source": [
    "## After training the model we simply do:\n",
    "traced_script_module.save(\"model.pt\") #this file can now be loaded into C++"
   ]
  },
  {
   "cell_type": "markdown",
   "metadata": {},
   "source": [
    "## STEP 3: LOADING YOUR SCRIPT MODULE IN C++"
   ]
  },
  {
   "cell_type": "markdown",
   "metadata": {},
   "source": [
    "From this step to the last one you must follows this [link](https://pytorch.org/tutorials/advanced/cpp_export.html)\n",
    "since the remainig steps are done in c++"
   ]
  },
  {
   "cell_type": "code",
   "execution_count": null,
   "metadata": {},
   "outputs": [],
   "source": []
  }
 ],
 "metadata": {
  "kernelspec": {
   "display_name": "Python 3",
   "language": "python",
   "name": "python3"
  },
  "language_info": {
   "codemirror_mode": {
    "name": "ipython",
    "version": 3
   },
   "file_extension": ".py",
   "mimetype": "text/x-python",
   "name": "python",
   "nbconvert_exporter": "python",
   "pygments_lexer": "ipython3",
   "version": "3.6.5"
  }
 },
 "nbformat": 4,
 "nbformat_minor": 2
}
